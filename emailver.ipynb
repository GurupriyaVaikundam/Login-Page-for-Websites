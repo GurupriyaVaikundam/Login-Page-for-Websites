{
  "nbformat": 4,
  "nbformat_minor": 0,
  "metadata": {
    "colab": {
      "provenance": [],
      "collapsed_sections": [],
      "authorship_tag": "ABX9TyMm8VK3uak3S3D2K7Nn39Z1",
      "include_colab_link": true
    },
    "kernelspec": {
      "name": "python3",
      "display_name": "Python 3"
    },
    "language_info": {
      "name": "python"
    }
  },
  "cells": [
    {
      "cell_type": "markdown",
      "metadata": {
        "id": "view-in-github",
        "colab_type": "text"
      },
      "source": [
        "<a href=\"https://colab.research.google.com/github/GurupriyaVaikundam/Login-Page-for-Websites/blob/main/emailver.ipynb\" target=\"_parent\"><img src=\"https://colab.research.google.com/assets/colab-badge.svg\" alt=\"Open In Colab\"/></a>"
      ]
    },
    {
      "cell_type": "code",
      "execution_count": null,
      "metadata": {
        "colab": {
          "base_uri": "https://localhost:8080/"
        },
        "id": "1fw2IjSuB-Aw",
        "outputId": "cb9a0625-8fcd-40a5-ce6b-8ebeedc5ecfe"
      },
      "outputs": [
        {
          "output_type": "stream",
          "name": "stdout",
          "text": [
            "                    WELCOME TO THE ASSIGNMENT LOGIN PAGE !!!\n",
            "\n",
            "The First Step is Registration:\n",
            " \n",
            "\n",
            "You need to create your username in the given format...\n",
            "   # Your username should have '@' and '.' \n",
            "   # There should not be any '@' right next to '.'\n",
            "   # Make sure your username does not start with any special charecters\n",
            "   # For example: sherlock@gmail.com \n",
            "\n",
            "Enter your Username: gurupriya123@gmail.com\n",
            "\n",
            " ['gurupriya123@gmail.com']\n",
            "                      VALID EMAIL !!!\n",
            "\n",
            "You can now proceed to create your password...\n",
            "\n",
            "The Next Step is to Create the Password: \n",
            "\n",
            "\n",
            "Your password should satisfy the following conditions:\n",
            "\n",
            "# password(5< password length >16)\n",
            "# Must have minimum one special character\n",
            "# Must have minimum one digit\n",
            "# Must have minimum one uppercase character\n",
            "# Must have minimum one lowercase character\n",
            "\n",
            "Enter your password: Akis@123\n",
            "Akis@123\n",
            "                      Password Created !!!\n"
          ]
        }
      ],
      "source": [
        "import re\n",
        "print(\"                    WELCOME TO THE ASSIGNMENT LOGIN PAGE !!!\")\n",
        "print(\"\\nThe First Step is Registration:\\n \")\n",
        "print(\"\\nYou need to create your username in the given format...\")\n",
        "print(\"   # Your username should have '@' and '.' \")\n",
        "print(\"   # There should not be any '@' right next to '.'\")\n",
        "print(\"   # Make sure your username does not start with any special charecters\")\n",
        "print(\"   # For example: sherlock@gmail.com \")\n",
        "e=input(\"\\nEnter your Username: \")\n",
        "flag=0\n",
        "special_charecters=\"!@#$%^&*()_+{}|:<>?-=[]\\;,./\"\n",
        "a=re.findall(\".+@\\..+\",e)\n",
        "if a!=[]:\n",
        "  flag=1\n",
        "b=re.findall(\"^\\d\",e)\n",
        "if b!=[]:\n",
        "  flag=1\n",
        "for i in special_charecters:\n",
        "  if i==e[0]:\n",
        "    flag=1\n",
        "if flag==0:\n",
        "  l=re.findall(\".+@.+\\..+\",e)\n",
        "  if l!=[]:\n",
        "    print('\\n',l)\n",
        "    print(\"                      VALID EMAIL !!!\")\n",
        "    print(\"\\nYou can now proceed to create your password...\")\n",
        "else:\n",
        "  print(\"                      INVALID EMAIL !!!\")\n",
        "  print(\"\\nKindly enter another email id in the mentioned format...\")\n",
        "print('\\nThe Next Step is to Create the Password: ')\n",
        "print('\\n\\nYour password should satisfy the following conditions:')\n",
        "print('\\n# password(5< password length >16)')\n",
        "print('# Must have minimum one special character')\n",
        "print('# Must have minimum one digit')\n",
        "print('# Must have minimum one uppercase character')\n",
        "print('# Must have minimum one lowercase character')\n",
        "p=input(\"\\nEnter your password: \")\n",
        "flags=0\n",
        "c=re.findall(\"\\d\",p)\n",
        "if c==[]:\n",
        "    flags=1\n",
        "f=re.findall(\"[A-Z]\",p)\n",
        "if f==[]:\n",
        "    flags=1\n",
        "g=re.findall(\"[a-z]\",p)\n",
        "if g==[]:\n",
        "    flags=1\n",
        "s=0\n",
        "for j in p:\n",
        "    if j=='@'or j=='#'or j=='$'or j=='%'or j=='^'or j=='&'or j=='*'or j=='('or j==')'or j=='_'or j=='+'or j=='-'or j=='='or j=='['or j==']'or j=='{'or j=='}'or j=='|'or j==';'or j==':'or j==','or j=='.'or j=='/'or j=='<'or j=='>'or j=='?':\n",
        "        s=s+1\n",
        "if s==0:\n",
        "    flags=1\n",
        "if flags==0:\n",
        "    if len(p)>5 and len(p)<16:\n",
        "        print(p)\n",
        "        print(\"                      Password Created !!!\")\n",
        "else:\n",
        "    print('The password is not valid !!!')\n",
        "    print('\\nPlease enter another valid password...')\n",
        "\n",
        "print(\"\\nYour username and password has successfully been created...\")\n",
        "print(\"\\n\\nYou can now login using the following credentials...\")\n",
        "print(\"Your username is: \",e)\n",
        "print(\"Your password is: \",p)\n",
        "\n",
        "\n",
        "\n"
      ]
    }
  ]
}